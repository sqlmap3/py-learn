{
 "cells": [
  {
   "cell_type": "markdown",
   "metadata": {},
   "source": [
    "# 列表list\n"
   ]
  },
  {
   "cell_type": "markdown",
   "metadata": {},
   "source": [
    "# 一、创建列表"
   ]
  },
  {
   "cell_type": "code",
   "execution_count": 75,
   "metadata": {},
   "outputs": [
    {
     "name": "stdout",
     "output_type": "stream",
     "text": [
      "[1, [1, 2, 3], (1, 2, 3), 'banana', True, 1, [1, 2, 3], (1, 2, 3), 'banana', True]\n"
     ]
    }
   ],
   "source": [
    "'1.直接创建法'\n",
    "l =[1,[1,2,3],(1,2,3),'banana',True];print(l*2)"
   ]
  },
  {
   "cell_type": "code",
   "execution_count": 87,
   "metadata": {},
   "outputs": [
    {
     "name": "stdout",
     "output_type": "stream",
     "text": [
      "[1, 2, 3, 4] [1, 3] [5, 2]\n"
     ]
    }
   ],
   "source": [
    "'2.range函数法 range是一个生成器从0-4'\n",
    "a = range(5);b = list(range(1,5));c = list(range(1,5,2));d = list(range(5,1,-3));\n",
    "print(b,c,d)"
   ]
  },
  {
   "cell_type": "code",
   "execution_count": 108,
   "metadata": {},
   "outputs": [
    {
     "name": "stdout",
     "output_type": "stream",
     "text": [
      "[0, 0, 0, 0, 0]\n",
      "[0, 1, 8, 27, 64]\n",
      "[[[8, 16], [6, 12]], [[12, 24], [9, 18]], [[16, 32], [12, 24]]]\n",
      "<class 'list'>\n"
     ]
    }
   ],
   "source": [
    "'3.列表生成式'\n",
    "m = [0 for i in range(5)];print(m)\n",
    "n = [i**3 for i in range(5)];print(n)  \n",
    "l_3d = [[[i*j*k for i in range(1,3)]for k in range(4,2,-1)]for j in range(2,5)];print(l_3d) \n",
    "print(type(l_3d))"
   ]
  },
  {
   "cell_type": "code",
   "execution_count": 23,
   "metadata": {},
   "outputs": [
    {
     "name": "stdout",
     "output_type": "stream",
     "text": [
      "['h', 'e', 'l', 'l', 'o', ' ', 'w', 'o', 'r', 'l', 'd']\n",
      "[1, 2, 3]\n",
      "<class 'tuple'>\n",
      "<class 'list'>\n"
     ]
    }
   ],
   "source": [
    "'类型转换法'\n",
    "s = 'hello world';s2l=list(s);print(s2l)\n",
    "t = (1,2,3);t2l = list(t);print(t2l);print(type(t));print(type(t2l))\n"
   ]
  },
  {
   "cell_type": "markdown",
   "metadata": {},
   "source": [
    "# 二、列表索引"
   ]
  },
  {
   "cell_type": "code",
   "execution_count": 2,
   "metadata": {},
   "outputs": [
    {
     "name": "stdout",
     "output_type": "stream",
     "text": [
      "(1, 2, 3, 4) 5\n",
      "2\n",
      "[4, 5, 6, 7]\n",
      "7\n"
     ]
    }
   ],
   "source": [
    "'1.下标索引法'\n",
    "l = [1,2,3,4,5];l_2D = [(1,2,3,4),[4,5,6,7]];\n",
    "print(l_2D[0],l_2D[1][1]);\n",
    "print(l[1]);print(l_2D[-1]);print(l_2D[-1][-1])#二位列表双下标 -1表示倒数第一个元素 0表示第0个元素"
   ]
  },
  {
   "cell_type": "code",
   "execution_count": 6,
   "metadata": {},
   "outputs": [
    {
     "name": "stdout",
     "output_type": "stream",
     "text": [
      "[1, 2] [1, 4] [1, 2, 3, 4] [1, 2, 3, 4, 5] [1, 2, 3, 4, 5] [5, 3]\n"
     ]
    }
   ],
   "source": [
    "'2.切片（冒号）索引法'\n",
    "print(l[0:2],l[0:4:3],l[:-1],l[0:],l[:],l[-1:0:-2])   #python切片计头不计尾 切成子列表 从0到2切片形成列表（间隔默认1），-1表倒数的一个元素\n"
   ]
  },
  {
   "cell_type": "markdown",
   "metadata": {},
   "source": [
    "# 三、修改列表 "
   ]
  },
  {
   "cell_type": "code",
   "execution_count": 17,
   "metadata": {},
   "outputs": [
    {
     "name": "stdout",
     "output_type": "stream",
     "text": [
      "[9, 2, 3, 4, 6]\n",
      "[[1, 2, 3], []]\n"
     ]
    }
   ],
   "source": [
    "l = [1,2,3,4,6];l[0] = 9;print(l)#下标索引直接法修改元素值\n",
    "x = [[1,2,3],[2,3,4]];x[1] = [];print(x)\n"
   ]
  },
  {
   "cell_type": "code",
   "execution_count": 29,
   "metadata": {},
   "outputs": [
    {
     "name": "stdout",
     "output_type": "stream",
     "text": [
      "94342800722576 [1, [2, 3], (3, 4), {10: 11}]\n"
     ]
    }
   ],
   "source": [
    "l = [1,[2,3],(3,4)];x = l.append({10:11});print(id(x),l) #append 增加尾部元素（方法）"
   ]
  },
  {
   "cell_type": "code",
   "execution_count": 71,
   "metadata": {},
   "outputs": [
    {
     "name": "stdout",
     "output_type": "stream",
     "text": [
      "[3, 4]\n",
      "139677195140744 139677195119432\n",
      "[1, [2, 3]]\n"
     ]
    }
   ],
   "source": [
    "l = [1,[2,3],(3,4)];x = list(l.pop(2)); print(x);print(id(l),id(x))#pop 弹出尾部元素(或者是列表)（方法） 指定元素\n",
    "print(l)#默认删除尾部元素"
   ]
  },
  {
   "cell_type": "code",
   "execution_count": 58,
   "metadata": {},
   "outputs": [
    {
     "name": "stdout",
     "output_type": "stream",
     "text": [
      "[1, 2, [(1, 1)], [3, 3], (4, 0)]\n"
     ]
    }
   ],
   "source": [
    "l = [1,2,[3,3],(4,0)] ;l.insert(2,[(1,1)]);print(l) #insert 指定位置插入元素（方法）"
   ]
  },
  {
   "cell_type": "code",
   "execution_count": 3,
   "metadata": {},
   "outputs": [
    {
     "data": {
      "text/plain": [
       "[1, 2, (4, 0)]"
      ]
     },
     "execution_count": 3,
     "metadata": {},
     "output_type": "execute_result"
    }
   ],
   "source": [
    "l = [1,2,[3,3],(4,0)] ;del(l[2]);l #按索引删除元素（直接法）"
   ]
  },
  {
   "cell_type": "code",
   "execution_count": 9,
   "metadata": {},
   "outputs": [
    {
     "data": {
      "text/plain": [
       "[2, [3, 3], (4, 0)]"
      ]
     },
     "execution_count": 9,
     "metadata": {},
     "output_type": "execute_result"
    }
   ],
   "source": [
    "l = [1,2,[3,3],(4,0)] ;l.remove(1);l #按内容删除元素（方法）"
   ]
  },
  {
   "cell_type": "code",
   "execution_count": 12,
   "metadata": {},
   "outputs": [
    {
     "data": {
      "text/plain": [
       "[]"
      ]
     },
     "execution_count": 12,
     "metadata": {},
     "output_type": "execute_result"
    }
   ],
   "source": [
    "l = [1,2,[3,3],(4,0)] ;l.clear();l #清空列表元素（方法）"
   ]
  },
  {
   "cell_type": "code",
   "execution_count": 24,
   "metadata": {},
   "outputs": [
    {
     "data": {
      "text/plain": [
       "[1, 2, [3, 3], (4, 0), 6, 7]"
      ]
     },
     "execution_count": 24,
     "metadata": {},
     "output_type": "execute_result"
    }
   ],
   "source": [
    "l = [1,2,[3,3],(4,0)] ;l.extend(([6,7]));l#拓展列表（方法）"
   ]
  },
  {
   "cell_type": "code",
   "execution_count": 18,
   "metadata": {},
   "outputs": [
    {
     "data": {
      "text/plain": [
       "[(4, 0), [3, 3], 2, 1]"
      ]
     },
     "execution_count": 18,
     "metadata": {},
     "output_type": "execute_result"
    }
   ],
   "source": [
    "l = [1,2,[3,3],(4,0)];l.reverse();l #反转元素"
   ]
  },
  {
   "cell_type": "code",
   "execution_count": 30,
   "metadata": {},
   "outputs": [
    {
     "name": "stdout",
     "output_type": "stream",
     "text": [
      "[5, 4, 3, 2, 1]\n",
      "[3, 4, 2, 5, 1]\n"
     ]
    },
    {
     "data": {
      "text/plain": [
       "[0.5403023058681398,\n",
       " -0.4161468365471424,\n",
       " -0.9899924966004454,\n",
       " -0.6536436208636119,\n",
       " 0.28366218546322625]"
      ]
     },
     "execution_count": 30,
     "metadata": {},
     "output_type": "execute_result"
    }
   ],
   "source": [
    "l = [3,5,2,1,4];l.sort(reverse = True) ;print(l);l.sort(key  = cos);print(l);\n",
    "[cos(i) for i in [1,2,3,4,5]]#sort默认reverse是false"
   ]
  },
  {
   "cell_type": "markdown",
   "metadata": {},
   "source": [
    "# 四、使用列表"
   ]
  },
  {
   "cell_type": "code",
   "execution_count": 31,
   "metadata": {},
   "outputs": [
    {
     "name": "stdout",
     "output_type": "stream",
     "text": [
      "5\n"
     ]
    }
   ],
   "source": [
    "l = [[1,2],2,3,4,5];n =len(l);print(n) #元素的长度"
   ]
  },
  {
   "cell_type": "code",
   "execution_count": 38,
   "metadata": {},
   "outputs": [
    {
     "data": {
      "text/plain": [
       "[5, 1, 15]"
      ]
     },
     "execution_count": 38,
     "metadata": {},
     "output_type": "execute_result"
    }
   ],
   "source": [
    "l = [1,2,3,4,5];l_max = max(l);l_min = min(l);l_sum =sum(l);[l_max,l_min,l_sum] #列表元素最小的 最大的 列表所有元素之和"
   ]
  },
  {
   "cell_type": "code",
   "execution_count": 32,
   "metadata": {},
   "outputs": [
    {
     "data": {
      "text/plain": [
       "1"
      ]
     },
     "execution_count": 32,
     "metadata": {},
     "output_type": "execute_result"
    }
   ],
   "source": [
    "l = [1,0,2,2,3,(0,4),5]; c =l.count((0,4));c   #count计数是方法 统计某个元素的个数"
   ]
  },
  {
   "cell_type": "code",
   "execution_count": 33,
   "metadata": {},
   "outputs": [
    {
     "data": {
      "text/plain": [
       "5"
      ]
     },
     "execution_count": 33,
     "metadata": {},
     "output_type": "execute_result"
    }
   ],
   "source": [
    "l = [1,0,2,2,3,[0,4],5];c = l.index([0,4]);c #查找某个元素第一次出现的位置"
   ]
  },
  {
   "cell_type": "markdown",
   "metadata": {},
   "source": [
    "# 五、深拷贝与浅拷贝 "
   ]
  },
  {
   "cell_type": "code",
   "execution_count": 11,
   "metadata": {},
   "outputs": [
    {
     "name": "stdout",
     "output_type": "stream",
     "text": [
      "139971788874632 139971776199880\n",
      "[0, 2, 3, 4, 5] [1, 2, 3, 4, 5]\n"
     ]
    }
   ],
   "source": [
    "l = [1,2,3,4,5]\n",
    "l_same = l\n",
    "l_copy =l.copy()\n",
    "print(id(l_same),id(l_copy))\n",
    "l[0] = 0\n",
    "print(l_same,l_copy)\n"
   ]
  },
  {
   "cell_type": "code",
   "execution_count": 6,
   "metadata": {
    "code_folding": []
   },
   "outputs": [
    {
     "ename": "AttributeError",
     "evalue": "'list' object has no attribute 'l_copy'",
     "output_type": "error",
     "traceback": [
      "\u001b[0;31m---------------------------------------------------------------------------\u001b[0m",
      "\u001b[0;31mAttributeError\u001b[0m                            Traceback (most recent call last)",
      "\u001b[0;32m<ipython-input-6-d5be8cfc6a26>\u001b[0m in \u001b[0;36m<module>\u001b[0;34m\u001b[0m\n\u001b[0;32m----> 1\u001b[0;31m \u001b[0mprint\u001b[0m\u001b[0;34m(\u001b[0m\u001b[0ml_same\u001b[0m\u001b[0;34m.\u001b[0m\u001b[0ml_copy\u001b[0m\u001b[0;34m)\u001b[0m\u001b[0;34m\u001b[0m\u001b[0;34m\u001b[0m\u001b[0m\n\u001b[0m",
      "\u001b[0;31mAttributeError\u001b[0m: 'list' object has no attribute 'l_copy'"
     ]
    }
   ],
   "source": []
  },
  {
   "cell_type": "markdown",
   "metadata": {},
   "source": [
    "# 六、思考题"
   ]
  },
  {
   "cell_type": "markdown",
   "metadata": {},
   "source": [
    "1.列表生成式求两个向量的和，点乘"
   ]
  },
  {
   "cell_type": "code",
   "execution_count": 49,
   "metadata": {},
   "outputs": [
    {
     "name": "stdout",
     "output_type": "stream",
     "text": [
      "[8, 8, 8, 8, 8]\n",
      "65\n"
     ]
    }
   ],
   "source": [
    "a = list(range(1,6));b = list(range(7,2,-1))\n",
    "m = [i+j for i,j in zip(a,b)];print(m)\n",
    "n= [i*j for i,j in zip(a,b)];print(sum(n))\n"
   ]
  },
  {
   "cell_type": "markdown",
   "metadata": {},
   "source": [
    "求1-1000含有1000范围内所有能被3或者5整除的整数之和（unique（a）可以去除列表a中的重复元素）"
   ]
  },
  {
   "cell_type": "code",
   "execution_count": 114,
   "metadata": {},
   "outputs": [
    {
     "name": "stdout",
     "output_type": "stream",
     "text": [
      "[3 5 6 9 10 12 15 18 20 21 24 25 27 30 33 35 36 39 40 42 45 48 50 51 54 55\n",
      " 57 60 63 65 66 69 70 72 75 78 80 81 84 85 87 90 93 95 96 99 100 102 105\n",
      " 108 110 111 114 115 117 120 123 125 126 129 130 132 135 138 140 141 144\n",
      " 145 147 150 153 155 156 159 160 162 165 168 170 171 174 175 177 180 183\n",
      " 185 186 189 190 192 195 198 200 201 204 205 207 210 213 215 216 219 220\n",
      " 222 225 228 230 231 234 235 237 240 243 245 246 249 250 252 255 258 260\n",
      " 261 264 265 267 270 273 275 276 279 280 282 285 288 290 291 294 295 297\n",
      " 300 303 305 306 309 310 312 315 318 320 321 324 325 327 330 333 335 336\n",
      " 339 340 342 345 348 350 351 354 355 357 360 363 365 366 369 370 372 375\n",
      " 378 380 381 384 385 387 390 393 395 396 399 400 402 405 408 410 411 414\n",
      " 415 417 420 423 425 426 429 430 432 435 438 440 441 444 445 447 450 453\n",
      " 455 456 459 460 462 465 468 470 471 474 475 477 480 483 485 486 489 490\n",
      " 492 495 498 500 501 504 505 507 510 513 515 516 519 520 522 525 528 530\n",
      " 531 534 535 537 540 543 545 546 549 550 552 555 558 560 561 564 565 567\n",
      " 570 573 575 576 579 580 582 585 588 590 591 594 595 597 600 603 605 606\n",
      " 609 610 612 615 618 620 621 624 625 627 630 633 635 636 639 640 642 645\n",
      " 648 650 651 654 655 657 660 663 665 666 669 670 672 675 678 680 681 684\n",
      " 685 687 690 693 695 696 699 700 702 705 708 710 711 714 715 717 720 723\n",
      " 725 726 729 730 732 735 738 740 741 744 745 747 750 753 755 756 759 760\n",
      " 762 765 768 770 771 774 775 777 780 783 785 786 789 790 792 795 798 800\n",
      " 801 804 805 807 810 813 815 816 819 820 822 825 828 830 831 834 835 837\n",
      " 840 843 845 846 849 850 852 855 858 860 861 864 865 867 870 873 875 876\n",
      " 879 880 882 885 888 890 891 894 895 897 900 903 905 906 909 910 912 915\n",
      " 918 920 921 924 925 927 930 933 935 936 939 940 942 945 948 950 951 954\n",
      " 955 957 960 963 965 966 969 970 972 975 978 980 981 984 985 987 990 993\n",
      " 995 996 999 1000]\n",
      "234168\n"
     ]
    }
   ],
   "source": [
    "a = list(range(3,1001,3));b = list(range(5,1001,5))\n",
    "#1 =a+b;\n",
    "#print(a)\n",
    "#print(b)\n",
    "#rint(c_1)\n",
    "#int(unique(c_1))\n",
    "print(unique(a+b))\n",
    "print(sum(unique(a+b)))"
   ]
  },
  {
   "cell_type": "code",
   "execution_count": 113,
   "metadata": {
    "code_folding": [
     0
    ]
   },
   "outputs": [
    {
     "data": {
      "text/plain": [
       "[1, 2, 3, 4, 3, 4, 5, 5]"
      ]
     },
     "execution_count": 113,
     "metadata": {},
     "output_type": "execute_result"
    }
   ],
   "source": [
    "a = [1,2,3,4];b =[3,4,5,5];a.extend(b);x =unique(a);a #unique是函数 仍然是a与b合并的列表 a其实没有变"
   ]
  },
  {
   "cell_type": "code",
   "execution_count": 115,
   "metadata": {},
   "outputs": [
    {
     "name": "stdout",
     "output_type": "stream",
     "text": [
      "[3 5 6 9 10 12 15 18 20 21 24 25 27 30 33 35 36 39 40 42 45 48 50 51 54 55\n",
      " 57 60 63 65 66 69 70 72 75 78 80 81 84 85 87 90 93 95 96 99 100 102 105\n",
      " 108 110 111 114 115 117 120 123 125 126 129 130 132 135 138 140 141 144\n",
      " 145 147 150 153 155 156 159 160 162 165 168 170 171 174 175 177 180 183\n",
      " 185 186 189 190 192 195 198 200 201 204 205 207 210 213 215 216 219 220\n",
      " 222 225 228 230 231 234 235 237 240 243 245 246 249 250 252 255 258 260\n",
      " 261 264 265 267 270 273 275 276 279 280 282 285 288 290 291 294 295 297\n",
      " 300 303 305 306 309 310 312 315 318 320 321 324 325 327 330 333 335 336\n",
      " 339 340 342 345 348 350 351 354 355 357 360 363 365 366 369 370 372 375\n",
      " 378 380 381 384 385 387 390 393 395 396 399 400 402 405 408 410 411 414\n",
      " 415 417 420 423 425 426 429 430 432 435 438 440 441 444 445 447 450 453\n",
      " 455 456 459 460 462 465 468 470 471 474 475 477 480 483 485 486 489 490\n",
      " 492 495 498 500 501 504 505 507 510 513 515 516 519 520 522 525 528 530\n",
      " 531 534 535 537 540 543 545 546 549 550 552 555 558 560 561 564 565 567\n",
      " 570 573 575 576 579 580 582 585 588 590 591 594 595 597 600 603 605 606\n",
      " 609 610 612 615 618 620 621 624 625 627 630 633 635 636 639 640 642 645\n",
      " 648 650 651 654 655 657 660 663 665 666 669 670 672 675 678 680 681 684\n",
      " 685 687 690 693 695 696 699 700 702 705 708 710 711 714 715 717 720 723\n",
      " 725 726 729 730 732 735 738 740 741 744 745 747 750 753 755 756 759 760\n",
      " 762 765 768 770 771 774 775 777 780 783 785 786 789 790 792 795 798 800\n",
      " 801 804 805 807 810 813 815 816 819 820 822 825 828 830 831 834 835 837\n",
      " 840 843 845 846 849 850 852 855 858 860 861 864 865 867 870 873 875 876\n",
      " 879 880 882 885 888 890 891 894 895 897 900 903 905 906 909 910 912 915\n",
      " 918 920 921 924 925 927 930 933 935 936 939 940 942 945 948 950 951 954\n",
      " 955 957 960 963 965 966 969 970 972 975 978 980 981 984 985 987 990 993\n",
      " 995 996 999 1000]\n",
      "234168\n"
     ]
    }
   ],
   "source": [
    "a = list(range(3,1001,3));b = list(range(5,1001,5));a.extend(b);print((unique(a)));print(sum(unique(a)))"
   ]
  },
  {
   "cell_type": "code",
   "execution_count": 131,
   "metadata": {},
   "outputs": [
    {
     "name": "stdout",
     "output_type": "stream",
     "text": [
      "[-1.5574077246549023, -2.185039863261519, -0.8714479827243188, -1.5881530833912738, 0.6483608274590866, -0.8559934009085187, -0.15158947061240008]\n",
      "[2, -23, -1, -7, 15, -19, 10]\n"
     ]
    }
   ],
   "source": [
    "l = [-1,2,-7,-23,10,15,-19]\n",
    "su = [tan(i) for i in l]\n",
    "print(su)\n",
    "l.sort(key = tan)\n",
    "print(l)"
   ]
  },
  {
   "cell_type": "code",
   "execution_count": null,
   "metadata": {},
   "outputs": [],
   "source": []
  },
  {
   "cell_type": "code",
   "execution_count": null,
   "metadata": {},
   "outputs": [],
   "source": []
  },
  {
   "cell_type": "code",
   "execution_count": null,
   "metadata": {},
   "outputs": [],
   "source": []
  },
  {
   "cell_type": "code",
   "execution_count": null,
   "metadata": {
    "code_folding": []
   },
   "outputs": [],
   "source": []
  }
 ],
 "metadata": {
  "kernelspec": {
   "display_name": "Python 3",
   "language": "python",
   "name": "python3"
  },
  "language_info": {
   "codemirror_mode": {
    "name": "ipython",
    "version": 3
   },
   "file_extension": ".py",
   "mimetype": "text/x-python",
   "name": "python",
   "nbconvert_exporter": "python",
   "pygments_lexer": "ipython3",
   "version": "3.6.7"
  },
  "toc": {
   "base_numbering": 1,
   "nav_menu": {},
   "number_sections": false,
   "sideBar": true,
   "skip_h1_title": false,
   "title_cell": "MarkDown菜单",
   "title_sidebar": "Contents",
   "toc_cell": false,
   "toc_position": {},
   "toc_section_display": true,
   "toc_window_display": false
  }
 },
 "nbformat": 4,
 "nbformat_minor": 2
}
