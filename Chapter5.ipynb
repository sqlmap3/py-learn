{
 "cells": [
  {
   "cell_type": "markdown",
   "metadata": {},
   "source": [
    "# 元组tuple与集合set"
   ]
  },
  {
   "cell_type": "markdown",
   "metadata": {},
   "source": [
    "1.元组tuple是一种有序的数据结构，与list类似但是元素不可改变"
   ]
  },
  {
   "cell_type": "markdown",
   "metadata": {},
   "source": [
    "2.利用tuple为多变量批量赋值，在python使用中比较常见"
   ]
  },
  {
   "cell_type": "markdown",
   "metadata": {},
   "source": [
    "# 一、创建元组"
   ]
  },
  {
   "cell_type": "code",
   "execution_count": 17,
   "metadata": {},
   "outputs": [
    {
     "name": "stdout",
     "output_type": "stream",
     "text": [
      "()\n",
      "(1,)\n",
      "(1, 2, 3, 4)\n",
      "a 1\n",
      "(1, 2, {'male': 'a', 's': 0}, [1, 3], True, 'hello')\n"
     ]
    }
   ],
   "source": [
    "'1.直接创建法'\n",
    "t0 = ();print(t0) #空元组\n",
    "t1 =(1,);print(t1) #只有一个元素的元组\n",
    "t2 =1,2,3,4;print(t2)  #逗号隔开默认为元组\n",
    "x,y ='a',1;print(x,y)#利用元组对应元素赋值；利用tuple批量赋值 可以使代码尽量简短\n",
    "t3 =1,2,{'male':'a','s':0},[1,3],True,'hello';print(t3)"
   ]
  },
  {
   "cell_type": "code",
   "execution_count": 18,
   "metadata": {},
   "outputs": [
    {
     "name": "stdout",
     "output_type": "stream",
     "text": [
      "(5, 4, 3, 2, 1)\n"
     ]
    }
   ],
   "source": [
    "'2.range函数法'\n",
    "t4 =tuple(range(5,0,-1));print(t4)"
   ]
  },
  {
   "cell_type": "code",
   "execution_count": 20,
   "metadata": {},
   "outputs": [
    {
     "name": "stdout",
     "output_type": "stream",
     "text": [
      "(0.8414709848078965, 0.1411200080598672, -0.9589242746631385, 0.6569865987187891, 0.4121184852417566)\n"
     ]
    }
   ],
   "source": [
    "'3.列表生成式+转换法'\n",
    "t5 =tuple([sin(i) for i in range(1,10,2)]);print(t5)"
   ]
  },
  {
   "cell_type": "markdown",
   "metadata": {},
   "source": [
    "# 二、修改元祖"
   ]
  },
  {
   "cell_type": "code",
   "execution_count": 23,
   "metadata": {},
   "outputs": [
    {
     "name": "stdout",
     "output_type": "stream",
     "text": [
      "[1, 2, 3, 4, 5, 7]\n",
      "(1, 2, 3, 4, 5, 7)\n"
     ]
    }
   ],
   "source": [
    "t =(1,2,3,4,5,7)\n",
    "#t[0] =2 #tuple内容不可修改\n",
    "l =sorted(t);print(l) #调用sorted 函数先将tuple转换成list先排序\n",
    "t =tuple(l);print(t) #修改之后先转换成tuple"
   ]
  },
  {
   "cell_type": "markdown",
   "metadata": {},
   "source": [
    "# 三、元组使用"
   ]
  },
  {
   "cell_type": "code",
   "execution_count": 53,
   "metadata": {},
   "outputs": [
    {
     "name": "stdout",
     "output_type": "stream",
     "text": [
      "(1, 2, 3, 4, 3, 2, 2, 3)\n",
      "-1 (1, 2, 3)\n",
      "8 20 1 4\n",
      "3 5\n"
     ]
    }
   ],
   "source": [
    "'索引'\n",
    "t =(1,2,3,4,3,2,2,3);print(t)\n",
    "print(-1,t[0:3])  #下标索引与切片（冒号）索引法\n",
    "'常用函数'\n",
    "print(len(t),sum(t),min(t),max(t))\n",
    "print(t.count(2),t.index(2,-3,-1))  #tuple.index(value,start,stop)\n"
   ]
  },
  {
   "cell_type": "markdown",
   "metadata": {},
   "source": [
    "## 集合（set）"
   ]
  },
  {
   "cell_type": "markdown",
   "metadata": {},
   "source": [
    "*集合是一种无序数据结构，可以看成只有key的字典"
   ]
  },
  {
   "cell_type": "markdown",
   "metadata": {},
   "source": [
    "*和字典的key一样，集合元素必须是不可改变的数据结构，如int,float,str,tuple等不能是list,set,dict等可变数据类型"
   ]
  },
  {
   "cell_type": "markdown",
   "metadata": {},
   "source": [
    "*python 集合set可以用来去除重复元素，交并补"
   ]
  },
  {
   "cell_type": "markdown",
   "metadata": {},
   "source": [
    "# 一、创建集合"
   ]
  },
  {
   "cell_type": "code",
   "execution_count": 10,
   "metadata": {},
   "outputs": [
    {
     "name": "stdout",
     "output_type": "stream",
     "text": [
      "()\n",
      "{True, 'hello', 5, (1, 2, 3)}\n",
      "{64, 100, 4, 36, 16}\n",
      "{1, 2, 3, 4, 5}\n"
     ]
    }
   ],
   "source": [
    "s =();print(s) #创建空字典\n",
    "#s1 ={[1,2],'a',float,1};print(s1)  # 集合元素不能是可变的list\n",
    "'1.直接创建法'\n",
    "s1 ={(1,2,3),'hello',5,True};print(s1)\n",
    "'2.集合生成式'\n",
    "s3= {i**2 for i in range(10,1,-2)};print(s3)\n",
    "'3.类型转换法'\n",
    "s5 = set([1,2,3,4,5,4,3,3,2]);print(s5)"
   ]
  },
  {
   "cell_type": "markdown",
   "metadata": {},
   "source": [
    "# 二、修改集合"
   ]
  },
  {
   "cell_type": "code",
   "execution_count": 25,
   "metadata": {},
   "outputs": [
    {
     "name": "stdout",
     "output_type": "stream",
     "text": [
      "{2, 3, 4, 5}\n",
      "{2, 3, 4, 5, 6}\n",
      "2 {3, 4, 5, 6}\n",
      "{4, 5, 6}\n",
      "{4, 5, 6}\n",
      "{1, 2, 4, 5, 6, 10}\n"
     ]
    }
   ],
   "source": [
    "s = {2,3,4,5,2,3};print(s)\n",
    "s.add(6);print(s)  #增加元素 （集合是无序的不重复的）\n",
    "x =s.pop();print(x,s)  #pop() takes no arguments (1 given)  弹出方法默认是第一位 无参数\n",
    "s.remove(3);print(s);#指定元素删除 有则删除 无则报错\n",
    "s.discard(10);print(s);#指定元素删除 有则删除 无则保持不变\n",
    "s.update({1,2,10});print(s) #更新集合 等价于 并集\n"
   ]
  },
  {
   "cell_type": "markdown",
   "metadata": {},
   "source": [
    "# 三、使用集合"
   ]
  },
  {
   "cell_type": "code",
   "execution_count": 37,
   "metadata": {},
   "outputs": [
    {
     "name": "stdout",
     "output_type": "stream",
     "text": [
      "6 23 1 46\n",
      "{1, 4, 5, 6, 7, 23} {1, 4, 5, 6, 7, 23, 10}\n",
      "{1, 4, 5, 6, 7, 23, 10}\n",
      "{1, 4, 5, 6, 7, 23} {4, 5}\n",
      "{4, 5}\n",
      "{1, 4, 5, 6, 7, 23} {1, 23, 6, 7}\n",
      "{1, 4, 5, 6, 7, 23} {1, 23, 6, 7, 10}\n",
      "{1, 4, 5, 6, 7, 23} False False False\n"
     ]
    }
   ],
   "source": [
    "s={1,23,4,5,7,6,5};t={4,5,10}\n",
    "print(len(s),max(s),min(s),sum(tuple(s)))\n",
    "print(s,s.union(t)) #并集\n",
    "print(s|t) #并集\n",
    "print(s,s.intersection(t)) #交集\n",
    "print(s & t) #交集\n",
    "print(s,s.difference(t)) #差集 广义补集 元素属于s不属于t\n",
    "print(s,s.symmetric_difference(t))#对称差集 属于s不属于t 或者属于t不属于s\n",
    "print(s,s.isdisjoint(t),s.issubset(t),s.issuperset(t)) #是否是 不想交集合 超集，子集"
   ]
  },
  {
   "cell_type": "markdown",
   "metadata": {},
   "source": [
    "# 四、思考题"
   ]
  },
  {
   "cell_type": "markdown",
   "metadata": {},
   "source": [
    "1.交换两个变量的值？\n",
    "2.1到1000 能被3或者5整除元素之和？"
   ]
  },
  {
   "cell_type": "code",
   "execution_count": 44,
   "metadata": {},
   "outputs": [
    {
     "name": "stdout",
     "output_type": "stream",
     "text": [
      "2 3\n",
      "3 2\n",
      "234168\n"
     ]
    }
   ],
   "source": [
    "a,b =2,3;print(a,b)\n",
    "a,b =b,a;print(a,b)\n",
    "\n",
    "s1 = {i for i in range(3,1001,3)};s2 = {j for j in range(5,1001,5)}\n",
    "s1.update(s2);print(sum(tuple(s1)))"
   ]
  }
 ],
 "metadata": {
  "kernelspec": {
   "display_name": "Python 3",
   "language": "python",
   "name": "python3"
  },
  "language_info": {
   "codemirror_mode": {
    "name": "ipython",
    "version": 3
   },
   "file_extension": ".py",
   "mimetype": "text/x-python",
   "name": "python",
   "nbconvert_exporter": "python",
   "pygments_lexer": "ipython3",
   "version": "3.6.7"
  },
  "toc": {
   "base_numbering": 1,
   "nav_menu": {},
   "number_sections": false,
   "sideBar": true,
   "skip_h1_title": false,
   "title_cell": "MarkDown菜单",
   "title_sidebar": "Contents",
   "toc_cell": false,
   "toc_position": {},
   "toc_section_display": true,
   "toc_window_display": false
  }
 },
 "nbformat": 4,
 "nbformat_minor": 2
}
