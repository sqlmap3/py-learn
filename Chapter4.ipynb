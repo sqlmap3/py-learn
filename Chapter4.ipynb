{
 "cells": [
  {
   "cell_type": "markdown",
   "metadata": {},
   "source": [
    "# 字典"
   ]
  },
  {
   "cell_type": "markdown",
   "metadata": {},
   "source": [
    "# 一、何为字典？"
   ]
  },
  {
   "cell_type": "markdown",
   "metadata": {},
   "source": [
    "1.字典是一种无序键值对key-value集合"
   ]
  },
  {
   "cell_type": "markdown",
   "metadata": {},
   "source": [
    "2.key必须是不可改变的数据结构，如str,int,float,bool,tuple等，不能是list，dict,set等"
   ]
  },
  {
   "cell_type": "markdown",
   "metadata": {},
   "source": [
    "3.类似于映射关系，key具有唯一性"
   ]
  },
  {
   "cell_type": "markdown",
   "metadata": {},
   "source": [
    "# 二、创建字典"
   ]
  },
  {
   "cell_type": "code",
   "execution_count": 24,
   "metadata": {},
   "outputs": [
    {
     "name": "stdout",
     "output_type": "stream",
     "text": [
      "{'Jack': 15812344321, 'Tony': 15909877890}\n",
      "{'Jack': 'male', 'Tony': 'male'}\n",
      "{'Jack': 24, 'Tony': 25}\n",
      "{'Jack': 'BeiJing', 'Tony': 'NewYork'}\n"
     ]
    }
   ],
   "source": [
    "'1.直接创建法'\n",
    "tel = {'Jack':15812344321,'Tony':15909877890};print(tel)\n",
    "gender ={'Jack':'male','Tony':'male'};print(gender)\n",
    "age = dict(Jack = 24,Tony = 25);print(age)\n",
    "address =dict(zip(['Jack','Tony'],['BeiJing','NewYork']));print(address)#zip(拉链)打包为元组的列表\n"
   ]
  },
  {
   "cell_type": "code",
   "execution_count": 29,
   "metadata": {},
   "outputs": [
    {
     "name": "stdout",
     "output_type": "stream",
     "text": [
      "{10: 1000, 7: 343, 4: 64}\n",
      "{'x': 5, 'y': 6}\n"
     ]
    }
   ],
   "source": [
    "'2.字表生成式'\n",
    "d = {x:x**3 for x in range(10,2,-3)};print(d)\n",
    "g ={k:v for (k,v) in zip(['x','y'],[5,6])};print(g)"
   ]
  },
  {
   "cell_type": "code",
   "execution_count": 35,
   "metadata": {},
   "outputs": [
    {
     "name": "stdout",
     "output_type": "stream",
     "text": [
      "{'a': None, 3: None, 'b': None}\n",
      "{'a': 0, '3': 0, 'c': 0}\n"
     ]
    }
   ],
   "source": [
    "'3.fromkeys方法' #Python 字典 fromkeys() 函数用于创建一个新字典,key的所有初始值均为value\n",
    "d = dict.fromkeys(['a',3,'b']);print(d)\n",
    "g = dict.fromkeys(['a','3','c'],0);print(g)"
   ]
  },
  {
   "cell_type": "markdown",
   "metadata": {},
   "source": [
    "# 三、字典常用操作"
   ]
  },
  {
   "cell_type": "code",
   "execution_count": 43,
   "metadata": {},
   "outputs": [
    {
     "name": "stdout",
     "output_type": "stream",
     "text": [
      "1\n",
      "None\n",
      "0\n"
     ]
    }
   ],
   "source": [
    "'1.查询'\n",
    "d= {'a':1,'b':2,'c':3}\n",
    "print(d['a']) #由键key查找value 注意事项d[]\n",
    "print(d.get(('f')))#使用get方法避免报错dict.get 注意事项d.get()\n",
    "print(d.get(('f'),0))# 可以给定返回值"
   ]
  },
  {
   "cell_type": "code",
   "execution_count": 51,
   "metadata": {},
   "outputs": [
    {
     "name": "stdout",
     "output_type": "stream",
     "text": [
      "{'a': 1, 'b': 2, 'c': 3, 'v': 0}\n",
      "{'a': 1, 'b': 2, 'c': 3, 'v': 0}\n",
      "{'a': 1, 'b': 2, 'c': 3, 'v': 0, 'f': 9}\n"
     ]
    }
   ],
   "source": [
    "'2.直接插值setdefault方法'\n",
    "d= {'a':1,'b':2,'c':3}\n",
    "d['v']=0;print(d)\n",
    "d.setdefault('a',9);print(d) #有key则不影响\n",
    "d.setdefault('f',9);print(d) #无key 则设置默认元素"
   ]
  },
  {
   "cell_type": "code",
   "execution_count": 57,
   "metadata": {},
   "outputs": [
    {
     "name": "stdout",
     "output_type": "stream",
     "text": [
      "{'a': 0, 'b': 2, 'c': 3}\n",
      "{'a': 100, 'b': 100, 'c': 1, 'f': 3}\n"
     ]
    }
   ],
   "source": [
    "'3.更新字典'\n",
    "d= {'a':1,'b':2,'c':3}\n",
    "d['a']=0;print(d) #更新某个key的值\n",
    "d.update({'a':100,'b':100,'c':1,'f':3});print(d) #批量更新字典"
   ]
  },
  {
   "cell_type": "code",
   "execution_count": 79,
   "metadata": {},
   "outputs": [
    {
     "name": "stdout",
     "output_type": "stream",
     "text": [
      "{'b': 2, 'c': 3}\n",
      "1\n",
      "{'b': 2, 'c': 3}\n",
      "('c', 3)\n",
      "{}\n"
     ]
    }
   ],
   "source": [
    "'4.删除字典'\n",
    "d = {'a':1,'b':2,'c':3};x = d.pop('a');print(d);print(x) #pop方法删除弹出字典的value\n",
    "d = {'a':1,'b':2,'c':3};del(d['a']);print(d);#del删除key key必须有否则报错\n",
    "x = d.popitem();print(x)  #popitem弹出键值对\n",
    "d.clear();print(d) #clear清空字典"
   ]
  },
  {
   "cell_type": "code",
   "execution_count": 84,
   "metadata": {},
   "outputs": [
    {
     "name": "stdout",
     "output_type": "stream",
     "text": [
      "['a', 'b', 'c']\n",
      "[1, 2, 3]\n",
      "[('a', 1), ('b', 2), ('c', 3)]\n"
     ]
    }
   ],
   "source": [
    "'5.返回键值对'\n",
    "d = {'a':1,'b':2,'c':3}\n",
    "k =list(d.keys());print(k) #返回键\n",
    "v =list(d.values());print(v)#返回值\n",
    "it = list(d.items());print(it) #返回键值元组对"
   ]
  },
  {
   "cell_type": "markdown",
   "metadata": {},
   "source": [
    "# 四、思考"
   ]
  },
  {
   "cell_type": "markdown",
   "metadata": {},
   "source": [
    "实现两个字典合并？"
   ]
  },
  {
   "cell_type": "code",
   "execution_count": null,
   "metadata": {},
   "outputs": [],
   "source": []
  },
  {
   "cell_type": "code",
   "execution_count": 110,
   "metadata": {},
   "outputs": [
    {
     "name": "stdout",
     "output_type": "stream",
     "text": [
      "{1: 2, 3: 2, 4: 3, 6: 3, 7: 0}\n"
     ]
    }
   ],
   "source": [
    "d_1 = {1:2,3:2,4:2};d_2 = {4:3,6:3,7:0}\n",
    "d_1.update(d_2);print(d_1)"
   ]
  },
  {
   "cell_type": "markdown",
   "metadata": {},
   "source": [
    "对于一个value值不重复的字典如何查询某个value对应的key？\n"
   ]
  },
  {
   "cell_type": "code",
   "execution_count": 100,
   "metadata": {},
   "outputs": [
    {
     "name": "stdout",
     "output_type": "stream",
     "text": [
      "v\n"
     ]
    }
   ],
   "source": [
    "d ={'a':1,'s':2,'v':3} \n",
    "address_3 = v_1.index(3)\n",
    "k_1 = list(d.keys());v_1 =list(d.values());\n",
    "print(k_1[address_3])"
   ]
  }
 ],
 "metadata": {
  "kernelspec": {
   "display_name": "Python 3",
   "language": "python",
   "name": "python3"
  },
  "language_info": {
   "codemirror_mode": {
    "name": "ipython",
    "version": 3
   },
   "file_extension": ".py",
   "mimetype": "text/x-python",
   "name": "python",
   "nbconvert_exporter": "python",
   "pygments_lexer": "ipython3",
   "version": "3.6.7"
  },
  "toc": {
   "base_numbering": 1,
   "nav_menu": {},
   "number_sections": false,
   "sideBar": true,
   "skip_h1_title": false,
   "title_cell": "MarkDown菜单",
   "title_sidebar": "Contents",
   "toc_cell": false,
   "toc_position": {},
   "toc_section_display": true,
   "toc_window_display": false
  }
 },
 "nbformat": 4,
 "nbformat_minor": 2
}
